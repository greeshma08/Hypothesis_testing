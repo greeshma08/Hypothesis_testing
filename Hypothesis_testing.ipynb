{
 "cells": [
  {
   "cell_type": "markdown",
   "metadata": {},
   "source": [
    "# Hypohtesis Testing \n",
    "\n",
    "*Hypothesis* testing is a statistical tool to test an assumption regarding the population parameter.The methodology employed in statistical testing dpends on the nature of dataset used and the reason for the analysis.So,hypothesis testing is used to infer the result of a hypothesis performed on the sample data frpm a larger population.This notebook is dedicated towards hypothesis testing.In this notebook ,we'll discuss about the types of testing ,especially *Z-test* and *T-test*\n"
   ]
  },
  {
   "cell_type": "markdown",
   "metadata": {},
   "source": [
    "### Basic Teminology in Hypothesis testing:\n",
    "1.Null and alternate hypothesis\n",
    "2.p value\n",
    "3.Significance level\n",
    "4.Confidence level\n",
    "5.Type I and Type II error\n",
    "6.Decision Criteria"
   ]
  },
  {
   "cell_type": "markdown",
   "metadata": {},
   "source": [
    "### We would like to focus on Z and T tests"
   ]
  },
  {
   "cell_type": "markdown",
   "metadata": {},
   "source": [
    "## Z test:\n",
    "We considered healthcare as the domain and this Z test helps us to find out the answers for few questions.Before moving on,let's import few libraries."
   ]
  },
  {
   "cell_type": "code",
   "execution_count": null,
   "metadata": {},
   "outputs": [],
   "source": [
    "import pandas as pd\n",
    "import seaborn as sns\n",
    "import matplotlib.pyplot as plt\n",
    "sns.set(color_codes=True)\n",
    "%matplotlib inline"
   ]
  },
  {
   "cell_type": "markdown",
   "metadata": {},
   "source": [
    "### Reading the data from the csv files."
   ]
  },
  {
   "cell_type": "code",
   "execution_count": 18,
   "metadata": {},
   "outputs": [
    {
     "data": {
      "text/html": [
       "<div>\n",
       "<style scoped>\n",
       "    .dataframe tbody tr th:only-of-type {\n",
       "        vertical-align: middle;\n",
       "    }\n",
       "\n",
       "    .dataframe tbody tr th {\n",
       "        vertical-align: top;\n",
       "    }\n",
       "\n",
       "    .dataframe thead th {\n",
       "        text-align: right;\n",
       "    }\n",
       "</style>\n",
       "<table border=\"1\" class=\"dataframe\">\n",
       "  <thead>\n",
       "    <tr style=\"text-align: right;\">\n",
       "      <th></th>\n",
       "      <th>age</th>\n",
       "      <th>sex</th>\n",
       "      <th>bmi</th>\n",
       "      <th>children</th>\n",
       "      <th>smoker</th>\n",
       "      <th>region</th>\n",
       "      <th>expenses</th>\n",
       "    </tr>\n",
       "  </thead>\n",
       "  <tbody>\n",
       "    <tr>\n",
       "      <th>0</th>\n",
       "      <td>19</td>\n",
       "      <td>female</td>\n",
       "      <td>27.9</td>\n",
       "      <td>0</td>\n",
       "      <td>yes</td>\n",
       "      <td>southwest</td>\n",
       "      <td>16884.92</td>\n",
       "    </tr>\n",
       "    <tr>\n",
       "      <th>1</th>\n",
       "      <td>18</td>\n",
       "      <td>male</td>\n",
       "      <td>33.8</td>\n",
       "      <td>1</td>\n",
       "      <td>no</td>\n",
       "      <td>southeast</td>\n",
       "      <td>1725.55</td>\n",
       "    </tr>\n",
       "    <tr>\n",
       "      <th>2</th>\n",
       "      <td>28</td>\n",
       "      <td>male</td>\n",
       "      <td>33.0</td>\n",
       "      <td>3</td>\n",
       "      <td>no</td>\n",
       "      <td>southeast</td>\n",
       "      <td>4449.46</td>\n",
       "    </tr>\n",
       "    <tr>\n",
       "      <th>3</th>\n",
       "      <td>33</td>\n",
       "      <td>male</td>\n",
       "      <td>22.7</td>\n",
       "      <td>0</td>\n",
       "      <td>no</td>\n",
       "      <td>northwest</td>\n",
       "      <td>21984.47</td>\n",
       "    </tr>\n",
       "    <tr>\n",
       "      <th>4</th>\n",
       "      <td>32</td>\n",
       "      <td>male</td>\n",
       "      <td>28.9</td>\n",
       "      <td>0</td>\n",
       "      <td>no</td>\n",
       "      <td>northwest</td>\n",
       "      <td>3866.86</td>\n",
       "    </tr>\n",
       "  </tbody>\n",
       "</table>\n",
       "</div>"
      ],
      "text/plain": [
       "   age     sex   bmi  children smoker     region  expenses\n",
       "0   19  female  27.9         0    yes  southwest  16884.92\n",
       "1   18    male  33.8         1     no  southeast   1725.55\n",
       "2   28    male  33.0         3     no  southeast   4449.46\n",
       "3   33    male  22.7         0     no  northwest  21984.47\n",
       "4   32    male  28.9         0     no  northwest   3866.86"
      ]
     },
     "execution_count": 18,
     "metadata": {},
     "output_type": "execute_result"
    }
   ],
   "source": [
    "import pandas as pd\n",
    "data = pd.read_csv('insurance.csv')\n",
    "data.head()"
   ]
  },
  {
   "cell_type": "markdown",
   "metadata": {},
   "source": [
    "## Statistical Test\n",
    "\n",
    "### a.From the dataset we use Z-test to check whether the charges of people who smoke differ significantly from the people who don't?\n",
    " As per CLT regrardless of distribution of the population the sample mean is same as population mean and the sample standard deviation is std/sqrt(sample size)\n",
    "### Ho (Null): The charges across smoker and non-smokers are equal\n",
    "### Ha (Alternative) : The charges across smoker and non-smokers are unequal"
   ]
  },
  {
   "cell_type": "code",
   "execution_count": 21,
   "metadata": {},
   "outputs": [
    {
     "name": "stdout",
     "output_type": "stream",
     "text": [
      "test_statistic: 46.665\n",
      "Since the p-value, 0.0 < 0.05 (alpha) the difference is significant and we reject the Null hypothesis\n"
     ]
    }
   ],
   "source": [
    "from statsmodels.stats.weightstats import ztest\n",
    "\n",
    "sample1 = data.loc[data.smoker == 'yes', 'expenses']\n",
    "sample2 = data.loc[data.smoker =='no', 'expenses']\n",
    "\n",
    "alpha = 0.05   # Let's consider a significance level of 5%\n",
    "\n",
    "test_statistic, p_value = ztest(sample1, sample2)\n",
    "\n",
    "print(\"test_statistic:\",round(test_statistic,3))\n",
    "\n",
    "if p_value <= alpha:\n",
    "    print(f'Since the p-value, {round(p_value, 5)} < {alpha} (alpha) the difference is significant and we reject the Null hypothesis')\n",
    "else:\n",
    "    print(f'''\\t Since the p-value, {round(p_value,5)} > {alpha} (alpha) the difference is not significant and,\n",
    "    \\t we fail to reject the Null hypothesis''')"
   ]
  },
  {
   "cell_type": "markdown",
   "metadata": {},
   "source": [
    "### Performing two sample T-test"
   ]
  },
  {
   "cell_type": "code",
   "execution_count": 22,
   "metadata": {},
   "outputs": [
    {
     "name": "stdout",
     "output_type": "stream",
     "text": [
      "test_statistic: 46.665\n",
      "Since the p-value, 0.0 < 0.05 (alpha) the difference is significant and we reject the Null hypothesis\n"
     ]
    }
   ],
   "source": [
    "from scipy.stats import ttest_ind\n",
    "\n",
    "test_statistic, p_value = ttest_ind(sample1, sample2)\n",
    "\n",
    "print(\"test_statistic:\",round(test_statistic,3))\n",
    "\n",
    "if p_value <= alpha:\n",
    "    print(f'Since the p-value, {round(p_value, 3)} < {alpha} (alpha) the difference is significant and we reject the Null hypothesis')\n",
    "else:\n",
    "    print(f'''\\t Since the p-value, {round(p_value,3)} > {alpha} (alpha) the difference is not significant and,\n",
    "    \\t we fail to reject the Null hypothesis''')"
   ]
  },
  {
   "cell_type": "markdown",
   "metadata": {},
   "source": [
    "### As the p-value is close to zero it can concluded that the charges are significantly different from a smoker to a non-smoker\n",
    "b. Does bmi of males differ significantly from that of females\n",
    "To answer the above question we shall use Z-test.\n",
    "### Ho (Null): The charges BMI across gender are equal\n",
    "### Ha (Alternative) : The BMI across gender are unequal"
   ]
  },
  {
   "cell_type": "code",
   "execution_count": 23,
   "metadata": {},
   "outputs": [
    {
     "name": "stdout",
     "output_type": "stream",
     "text": [
      "test_statistic: 1.697\n",
      "\t Since the p-value, 0.08968 > 0.05 (alpha) the difference is not significant and,\n",
      "    \t we fail to reject the Null hypothesis\n"
     ]
    }
   ],
   "source": [
    "sample1 = data.loc[data.sex == 'male', 'bmi']\n",
    "sample2 = data.loc[data.sex =='female', 'bmi']\n",
    "\n",
    "alpha = 0.05   # Let's consider a significance level of 5%\n",
    "\n",
    "test_statistic, p_value = ztest(sample1, sample2)\n",
    "\n",
    "print(\"test_statistic:\",round(test_statistic,3))\n",
    "\n",
    "if p_value <= alpha:\n",
    "    print(f'Since the p-value, {round(p_value, 5)} < {alpha} (alpha) the difference is significant and we reject the Null hypothesis')\n",
    "else:\n",
    "    print(f'''\\t Since the p-value, {round(p_value,5)} > {alpha} (alpha) the difference is not significant and,\n",
    "    \\t we fail to reject the Null hypothesis''')"
   ]
  },
  {
   "cell_type": "markdown",
   "metadata": {},
   "source": [
    "### Perfoming two sample T-test"
   ]
  },
  {
   "cell_type": "code",
   "execution_count": 24,
   "metadata": {},
   "outputs": [
    {
     "name": "stdout",
     "output_type": "stream",
     "text": [
      "test_statistic: 1.697\n",
      "\t Since the p-value, 0.08991 > 0.05 (alpha) the difference is not significant and,\n",
      "    \t we fail to reject the Null hypothesis\n"
     ]
    }
   ],
   "source": [
    "test_statistic, p_value = ttest_ind(sample1, sample2)\n",
    "\n",
    "print('test_statistic:',round(test_statistic,3))\n",
    "\n",
    "if p_value <= alpha:\n",
    "    print(f'Since the p-value, {round(p_value, 5)} < {alpha} (alpha) the difference is significant and we reject the Null hypothesis')\n",
    "else:\n",
    "    print(f'''\\t Since the p-value, {round(p_value,5)} > {alpha} (alpha) the difference is not significant and,\n",
    "    \\t we fail to reject the Null hypothesis''')"
   ]
  },
  {
   "cell_type": "markdown",
   "metadata": {},
   "source": [
    "### As the p-value is greater than 0.05 it can be concluded that there is no significant difference in bmi between geneder\n",
    "c. Is the proportion of smokers significantly different in different genders\n",
    "To answer the above question we shall use Z-test of proprtion.\n",
    "### Ho (Null): The proportion of smokers is the same in both categories - males and females\n",
    "### Ha (Alternative) : The proportion of smokers is significantly different in both categories - males and females"
   ]
  },
  {
   "cell_type": "code",
   "execution_count": 25,
   "metadata": {},
   "outputs": [
    {
     "data": {
      "image/png": "[encoded data removed]",
      "text/plain": [
       "<Figure size 432x288 with 1 Axes>"
      ]
     },
     "metadata": {
      "needs_background": "light"
     },
     "output_type": "display_data"
    }
   ],
   "source": [
    "smoker=data['smoker']==\"yes\"\n",
    "smoker=data[smoker]\n",
    "smoker.shape\n",
    "smoker.head()\n",
    "pd.crosstab(smoker['smoker'],smoker['sex'])\n",
    "sns.countplot(smoker['sex'])\n",
    "plt.title(\"Distribution of Smokers across sex\");"
   ]
  },
  {
   "cell_type": "markdown",
   "metadata": {},
   "source": [
    "### Proprtion of male smokers seems to be higher than female smoker"
   ]
  },
  {
   "cell_type": "code",
   "execution_count": 28,
   "metadata": {},
   "outputs": [],
   "source": [
    "male=smoker.sex.value_counts()[:1].sum()\n",
    "female=smoker.sex.value_counts()[1:].sum()\n",
    "total=smoker.sex.value_counts().sum()"
   ]
  },
  {
   "cell_type": "code",
   "execution_count": 29,
   "metadata": {},
   "outputs": [
    {
     "data": {
      "text/plain": [
       "(0.5802919708029197, 0.4197080291970803)"
      ]
     },
     "execution_count": 29,
     "metadata": {},
     "output_type": "execute_result"
    }
   ],
   "source": [
    "male/total,female/total"
   ]
  },
  {
   "cell_type": "code",
   "execution_count": 30,
   "metadata": {},
   "outputs": [
    {
     "name": "stdout",
     "output_type": "stream",
     "text": [
      "Since the p-value, 0.00017 < 0.05 (alpha) the difference is significant and we reject the Null hypothesis\n"
     ]
    }
   ],
   "source": [
    "from statsmodels.stats.proportion import proportions_ztest\n",
    "\n",
    "test_statistic, p_value = proportions_ztest([male, female],[total])\n",
    "\n",
    "if p_value <= alpha:\n",
    "    print(f'Since the p-value, {round(p_value, 5)} < {alpha} (alpha) the difference is significant and we reject the Null hypothesis')\n",
    "else:\n",
    "    print(f'''\\t Since the p-value, {round(p_value,5)} > {alpha} (alpha) the difference is not significant and,\n",
    "    \\t we fail to reject the Null hypothesis''')"
   ]
  }
 ],
 "metadata": {
  "kernelspec": {
   "display_name": "Python 3",
   "language": "python",
   "name": "python3"
  },
  "language_info": {
   "codemirror_mode": {
    "name": "ipython",
    "version": 3
   },
   "file_extension": ".py",
   "mimetype": "text/x-python",
   "name": "python",
   "nbconvert_exporter": "python",
   "pygments_lexer": "ipython3",
   "version": "3.8.3"
  }
 },
 "nbformat": 4,
 "nbformat_minor": 4
}
